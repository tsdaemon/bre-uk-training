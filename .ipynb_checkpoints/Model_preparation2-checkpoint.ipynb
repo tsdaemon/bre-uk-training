{
 "cells": [
  {
   "cell_type": "code",
   "execution_count": 86,
   "metadata": {
    "collapsed": false
   },
   "outputs": [
    {
     "data": {
      "text/html": [
       "<div>\n",
       "<table border=\"1\" class=\"dataframe\">\n",
       "  <thead>\n",
       "    <tr style=\"text-align: right;\">\n",
       "      <th></th>\n",
       "      <th>Answer</th>\n",
       "      <th>Object</th>\n",
       "      <th>ObjectAnchor</th>\n",
       "      <th>Predicate</th>\n",
       "      <th>PredicateId</th>\n",
       "      <th>Subject</th>\n",
       "      <th>SubjectAnchor</th>\n",
       "      <th>Text</th>\n",
       "      <th>WikipediaLink</th>\n",
       "      <th>WikipediaTitle</th>\n",
       "      <th>_id</th>\n",
       "    </tr>\n",
       "  </thead>\n",
       "  <tbody>\n",
       "    <tr>\n",
       "      <th>0</th>\n",
       "      <td>weak</td>\n",
       "      <td>Володимир Мономах</td>\n",
       "      <td>Володимиром Мономахом</td>\n",
       "      <td>батько</td>\n",
       "      <td>P22</td>\n",
       "      <td>Мстислав Великий</td>\n",
       "      <td>Мстиславом Великим</td>\n",
       "      <td>Ярополк жив у згоді з батьком Володимиром Моно...</td>\n",
       "      <td>https://uk.wikipedia.org/wiki/Ярополк Володими...</td>\n",
       "      <td>Ярополк Володимирович</td>\n",
       "      <td>0009f2f32483bbd4b68d</td>\n",
       "    </tr>\n",
       "    <tr>\n",
       "      <th>1</th>\n",
       "      <td>has</td>\n",
       "      <td>Флавій Орест</td>\n",
       "      <td>Флавій Орест</td>\n",
       "      <td>батько</td>\n",
       "      <td>P22</td>\n",
       "      <td>Ромул Август</td>\n",
       "      <td>Ромула Августа</td>\n",
       "      <td>Після смерті Ріцімера Східна Римська імперія с...</td>\n",
       "      <td>https://uk.wikipedia.org/wiki/V століття</td>\n",
       "      <td>V століття</td>\n",
       "      <td>001002218cb90f7de4ba</td>\n",
       "    </tr>\n",
       "    <tr>\n",
       "      <th>2</th>\n",
       "      <td>donthas</td>\n",
       "      <td>Уайна Капак</td>\n",
       "      <td>Уайни Капака</td>\n",
       "      <td>батько</td>\n",
       "      <td>P22</td>\n",
       "      <td>Уаскар</td>\n",
       "      <td>Уаскар</td>\n",
       "      <td>Був сином Сапа Інки Уайни Капака та молодшої д...</td>\n",
       "      <td>https://uk.wikipedia.org/wiki/Паулью Інка</td>\n",
       "      <td>Паулью Інка</td>\n",
       "      <td>001548301c08dc4d717f</td>\n",
       "    </tr>\n",
       "    <tr>\n",
       "      <th>3</th>\n",
       "      <td>has</td>\n",
       "      <td>Ярослав Мудрий</td>\n",
       "      <td>Ярослава I Мудрого</td>\n",
       "      <td>батько</td>\n",
       "      <td>P22</td>\n",
       "      <td>Володимир Ярославич (князь новгородський)</td>\n",
       "      <td>Володимир Ярославич</td>\n",
       "      <td>Володимир Ярославич — князь Новгородський, син...</td>\n",
       "      <td>https://uk.wikipedia.org/wiki/Володимир</td>\n",
       "      <td>Володимир</td>\n",
       "      <td>001809d2230282f77a33</td>\n",
       "    </tr>\n",
       "    <tr>\n",
       "      <th>4</th>\n",
       "      <td>donthas</td>\n",
       "      <td>Мехмед II Фатіх</td>\n",
       "      <td>Мехмеді ІІ</td>\n",
       "      <td>батько</td>\n",
       "      <td>P22</td>\n",
       "      <td>Баязид II</td>\n",
       "      <td>Баязиді ІІ</td>\n",
       "      <td>Відповідно до напису біля входу до приміщення ...</td>\n",
       "      <td>https://uk.wikipedia.org/wiki/Аладжа Імарет (С...</td>\n",
       "      <td>Аладжа Імарет (Салоніки)</td>\n",
       "      <td>001915ebadd92442641d</td>\n",
       "    </tr>\n",
       "  </tbody>\n",
       "</table>\n",
       "</div>"
      ],
      "text/plain": [
       "    Answer             Object           ObjectAnchor Predicate PredicateId  \\\n",
       "0     weak  Володимир Мономах  Володимиром Мономахом    батько         P22   \n",
       "1      has       Флавій Орест           Флавій Орест    батько         P22   \n",
       "2  donthas        Уайна Капак           Уайни Капака    батько         P22   \n",
       "3      has     Ярослав Мудрий     Ярослава I Мудрого    батько         P22   \n",
       "4  donthas    Мехмед II Фатіх             Мехмеді ІІ    батько         P22   \n",
       "\n",
       "                                     Subject        SubjectAnchor  \\\n",
       "0                           Мстислав Великий   Мстиславом Великим   \n",
       "1                               Ромул Август       Ромула Августа   \n",
       "2                                     Уаскар               Уаскар   \n",
       "3  Володимир Ярославич (князь новгородський)  Володимир Ярославич   \n",
       "4                                  Баязид II           Баязиді ІІ   \n",
       "\n",
       "                                                Text  \\\n",
       "0  Ярополк жив у згоді з батьком Володимиром Моно...   \n",
       "1  Після смерті Ріцімера Східна Римська імперія с...   \n",
       "2  Був сином Сапа Інки Уайни Капака та молодшої д...   \n",
       "3  Володимир Ярославич — князь Новгородський, син...   \n",
       "4  Відповідно до напису біля входу до приміщення ...   \n",
       "\n",
       "                                       WikipediaLink  \\\n",
       "0  https://uk.wikipedia.org/wiki/Ярополк Володими...   \n",
       "1           https://uk.wikipedia.org/wiki/V століття   \n",
       "2          https://uk.wikipedia.org/wiki/Паулью Інка   \n",
       "3            https://uk.wikipedia.org/wiki/Володимир   \n",
       "4  https://uk.wikipedia.org/wiki/Аладжа Імарет (С...   \n",
       "\n",
       "             WikipediaTitle                   _id  \n",
       "0     Ярополк Володимирович  0009f2f32483bbd4b68d  \n",
       "1                V століття  001002218cb90f7de4ba  \n",
       "2               Паулью Інка  001548301c08dc4d717f  \n",
       "3                 Володимир  001809d2230282f77a33  \n",
       "4  Аладжа Імарет (Салоніки)  001915ebadd92442641d  "
      ]
     },
     "execution_count": 86,
     "metadata": {},
     "output_type": "execute_result"
    }
   ],
   "source": [
    "import pandas as pd\n",
    "r = pd.read_csv('result.csv', encoding='utf8')\n",
    "r.head()"
   ]
  },
  {
   "cell_type": "code",
   "execution_count": 87,
   "metadata": {
    "collapsed": false
   },
   "outputs": [
    {
     "data": {
      "text/plain": [
       "5052"
      ]
     },
     "execution_count": 87,
     "metadata": {},
     "output_type": "execute_result"
    }
   ],
   "source": [
    "r = r[r['Answer'] != 'not']\n",
    "len(r)"
   ]
  },
  {
   "cell_type": "code",
   "execution_count": 88,
   "metadata": {
    "collapsed": false
   },
   "outputs": [
    {
     "data": {
      "text/plain": [
       "has        2090\n",
       "donthas    2032\n",
       "weak        930\n",
       "Name: Answer, dtype: int64"
      ]
     },
     "execution_count": 88,
     "metadata": {},
     "output_type": "execute_result"
    }
   ],
   "source": [
    "r['Answer'].value_counts()"
   ]
  },
  {
   "cell_type": "code",
   "execution_count": 89,
   "metadata": {
    "collapsed": false
   },
   "outputs": [
    {
     "name": "stdout",
     "output_type": "stream",
     "text": [
      "Теперішня будівля монастиря почала зводитися у 1767 р. в Браїлові коштом польського магната Францішека Салезія Потоцького як монастир католицького ордену тринітаріїв. Завершене будівництво було в 1778 р. за сприяння його сина Станіслава Щенсного.\n"
     ]
    }
   ],
   "source": [
    "row = r.iloc[4622]\n",
    "text = row['Text']\n",
    "print text"
   ]
  },
  {
   "cell_type": "code",
   "execution_count": 90,
   "metadata": {
    "collapsed": false
   },
   "outputs": [
    {
     "name": "stdout",
     "output_type": "stream",
     "text": [
      "Теперішня|будівля|монастиря|почала|зводитися|у|1767|р|.|в|Браїлові|коштом|польського|магната|Францішека|Салезія|Потоцького|як|монастир|католицького|ордену|тринітаріїв|.|Завершене|будівництво|було|в|1778|р|.|за|сприяння|його|сина|Станіслава|Щенсного|.\n"
     ]
    }
   ],
   "source": [
    "from tokenize_uk import *\n",
    "\n",
    "tokens = tokenize_text(row['Text'])\n",
    "tokens = [t for tt in tokens for sentence in tt for t in sentence]\n",
    "print '|'.join(tokens)"
   ]
  },
  {
   "cell_type": "code",
   "execution_count": 91,
   "metadata": {
    "collapsed": false
   },
   "outputs": [
    {
     "name": "stdout",
     "output_type": "stream",
     "text": [
      "Францішека Салезія Потоцького\n"
     ]
    }
   ],
   "source": [
    "import re\n",
    "objectAnchor = row['ObjectAnchor']\n",
    "def detect_anchor(tokens, anchor):\n",
    "    found = False\n",
    "    index = 0\n",
    "    for i in range(len(tokens)):\n",
    "        token = tokens[i]\n",
    "        pattern = re.escape(anchor[index]) + u\"[а|ом|у]?\"\n",
    "        match = re.match(pattern, token, flags=re.U|re.L)\n",
    "        \n",
    "        if(found):\n",
    "            if(match is not None):\n",
    "                index += 1\n",
    "            else:\n",
    "                index = 0\n",
    "                found = False\n",
    "                pattern = re.escape(anchor[index]) + u\"[а|ом]?\"\n",
    "                match = re.match(pattern, token, flags=re.U|re.L)\n",
    "        \n",
    "        if(not found and match is not None):\n",
    "            start = i\n",
    "            index += 1\n",
    "            found = True\n",
    "            \n",
    "        if(index == len(anchor)):\n",
    "            end = i + 1\n",
    "            yield range(start, end)\n",
    "            index = 0\n",
    "            found = False\n",
    "            \n",
    "\n",
    "\n",
    "def extract_from_tokens_by_range(tokens, r):\n",
    "    return ' '.join(tokens[r[0]:r[-1]+1])\n",
    "    \n",
    "detection = list(detect_anchor(tokens, tokenize_words(objectAnchor)))\n",
    "print extract_from_tokens_by_range(tokens, detection[0])"
   ]
  },
  {
   "cell_type": "code",
   "execution_count": 92,
   "metadata": {
    "collapsed": false
   },
   "outputs": [
    {
     "data": {
      "text/plain": [
       "[[34, 35]]"
      ]
     },
     "execution_count": 92,
     "metadata": {},
     "output_type": "execute_result"
    }
   ],
   "source": [
    "subjectAnchor = row['SubjectAnchor']\n",
    "detection = list(detect_anchor(tokens, tokenize_words(subjectAnchor)))\n",
    "detection"
   ]
  },
  {
   "cell_type": "code",
   "execution_count": 93,
   "metadata": {
    "collapsed": false
   },
   "outputs": [
    {
     "name": "stdout",
     "output_type": "stream",
     "text": [
      "Станіслава Щенсного\n"
     ]
    }
   ],
   "source": [
    "print extract_from_tokens_by_range(tokens, detection[0])"
   ]
  },
  {
   "cell_type": "code",
   "execution_count": 94,
   "metadata": {
    "collapsed": false
   },
   "outputs": [
    {
     "name": "stdout",
     "output_type": "stream",
     "text": [
      "Ярополк жив у згоді з батьком Володимиром Мономахом і старшим братом Мстиславом Великим.\n",
      "Мстиславом Великим\n",
      "Володимиром Мономахом\n"
     ]
    },
    {
     "data": {
      "text/plain": [
       "([[11, 12]], [[6, 7]])"
      ]
     },
     "execution_count": 94,
     "metadata": {},
     "output_type": "execute_result"
    }
   ],
   "source": [
    "def show_row_anchors_and_text(row, verbose=False):\n",
    "    text = row['Text']\n",
    "    if(verbose):\n",
    "        print text\n",
    "    tokens = tokenize_text(text)\n",
    "    tokens = [t for tt in tokens for sentence in tt for t in sentence]\n",
    "    subject_detection = list(detect_anchor(tokens, tokenize_words(row['SubjectAnchor'])))\n",
    "    if(verbose):\n",
    "        for d in subject_detection:\n",
    "            print extract_from_tokens_by_range(tokens, d)\n",
    "    object_detection = list(detect_anchor(tokens, tokenize_words(row['ObjectAnchor'])))\n",
    "    if(verbose):\n",
    "        for d in object_detection:\n",
    "            print extract_from_tokens_by_range(tokens, d)\n",
    "    return (subject_detection, object_detection)\n",
    "        \n",
    "show_row_anchors_and_text(r.iloc[0], True)"
   ]
  },
  {
   "cell_type": "code",
   "execution_count": 95,
   "metadata": {
    "collapsed": false
   },
   "outputs": [
    {
     "name": "stdout",
     "output_type": "stream",
     "text": [
      "Після смерті Ріцімера Східна Римська імперія спробувала прислати на захід свого імператора Юлія Непота, однак грецький імператор не отримав підтримки від римлян, і владу узурпував Флавій Орест, оголосивши імператором свого сина Ромула Августа.\n",
      "Ромула Августа\n",
      "Флавій Орест\n"
     ]
    },
    {
     "data": {
      "text/plain": [
       "([[34, 35]], [[27, 28]])"
      ]
     },
     "execution_count": 95,
     "metadata": {},
     "output_type": "execute_result"
    }
   ],
   "source": [
    "show_row_anchors_and_text(r.iloc[1], True)"
   ]
  },
  {
   "cell_type": "code",
   "execution_count": 96,
   "metadata": {
    "collapsed": false
   },
   "outputs": [
    {
     "name": "stdout",
     "output_type": "stream",
     "text": [
      "Був сином Сапа Інки Уайни Капака та молодшої дружини Аньяс Кольке. Оскільки був доволі молодим, то не брав участі у боротьби міє Атауальпою і Уаскаром, а згодом проти іспанців.\n",
      "Уаскаром\n",
      "Уайни Капака\n"
     ]
    },
    {
     "data": {
      "text/plain": [
       "([[26]], [[4, 5]])"
      ]
     },
     "execution_count": 96,
     "metadata": {},
     "output_type": "execute_result"
    }
   ],
   "source": [
    "show_row_anchors_and_text(r.iloc[2], True)"
   ]
  },
  {
   "cell_type": "code",
   "execution_count": null,
   "metadata": {
    "collapsed": false
   },
   "outputs": [],
   "source": [
    "positions = r.apply(show_row_anchors_and_text, axis=1)"
   ]
  },
  {
   "cell_type": "code",
   "execution_count": null,
   "metadata": {
    "collapsed": false
   },
   "outputs": [],
   "source": [
    "err = []\n",
    "for i in range(len(positions)):\n",
    "    try:\n",
    "        p = positions.iloc[i]\n",
    "    except:\n",
    "        err.append(i)\n",
    "    if(len(p[0]) == 0):\n",
    "        err.append(i)\n",
    "    if(len(p[1]) == 0):\n",
    "        err.append(i)\n",
    "err"
   ]
  },
  {
   "cell_type": "code",
   "execution_count": 82,
   "metadata": {
    "collapsed": false
   },
   "outputs": [
    {
     "data": {
      "text/plain": [
       "Answer                                                          has\n",
       "Object                                   Франциск Салезій Потоцький\n",
       "ObjectAnchor                          Францішека Салезія Потоцького\n",
       "Predicate                                                    батько\n",
       "PredicateId                                                     P22\n",
       "Subject                                 Станіслав Щенсний Потоцький\n",
       "SubjectAnchor                                   Станіслава Щенсного\n",
       "Text              Теперішня будівля монастиря почала зводитися у...\n",
       "WikipediaLink     https://uk.wikipedia.org/wiki/Свято-Троїцький ...\n",
       "WikipediaTitle           Свято-Троїцький жіночий монастир (Браїлів)\n",
       "_id                                            eb3c9ef1b1f807c72874\n",
       "Name: 4839, dtype: object"
      ]
     },
     "execution_count": 82,
     "metadata": {},
     "output_type": "execute_result"
    }
   ],
   "source": [
    "r.iloc[4622]"
   ]
  },
  {
   "cell_type": "code",
   "execution_count": 83,
   "metadata": {
    "collapsed": false
   },
   "outputs": [
    {
     "name": "stdout",
     "output_type": "stream",
     "text": [
      "Теперішня будівля монастиря почала зводитися у 1767 р. в Браїлові коштом польського магната Францішека Салезія Потоцького як монастир католицького ордену тринітаріїв. Завершене будівництво було в 1778 р. за сприяння його синаСтаніслава Щенсного.\n",
      "Францішека Салезія Потоцького\n"
     ]
    },
    {
     "data": {
      "text/plain": [
       "([], [[14, 15, 16]])"
      ]
     },
     "execution_count": 83,
     "metadata": {},
     "output_type": "execute_result"
    }
   ],
   "source": [
    "show_row_anchors_and_text(r.iloc[4622], True)"
   ]
  },
  {
   "cell_type": "code",
   "execution_count": null,
   "metadata": {
    "collapsed": true
   },
   "outputs": [],
   "source": []
  }
 ],
 "metadata": {
  "kernelspec": {
   "display_name": "Python 2",
   "language": "python",
   "name": "python2"
  },
  "language_info": {
   "codemirror_mode": {
    "name": "ipython",
    "version": 2
   },
   "file_extension": ".py",
   "mimetype": "text/x-python",
   "name": "python",
   "nbconvert_exporter": "python",
   "pygments_lexer": "ipython2",
   "version": "2.7.12"
  }
 },
 "nbformat": 4,
 "nbformat_minor": 0
}
