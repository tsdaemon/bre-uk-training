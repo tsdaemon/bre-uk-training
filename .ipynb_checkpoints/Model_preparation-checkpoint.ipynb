{
 "cells": [
  {
   "cell_type": "code",
   "execution_count": 1,
   "metadata": {
    "collapsed": false
   },
   "outputs": [
    {
     "data": {
      "text/html": [
       "<div>\n",
       "<table border=\"1\" class=\"dataframe\">\n",
       "  <thead>\n",
       "    <tr style=\"text-align: right;\">\n",
       "      <th></th>\n",
       "      <th>Answer</th>\n",
       "      <th>Object</th>\n",
       "      <th>ObjectAnchor</th>\n",
       "      <th>Predicate</th>\n",
       "      <th>PredicateId</th>\n",
       "      <th>Subject</th>\n",
       "      <th>SubjectAnchor</th>\n",
       "      <th>Text</th>\n",
       "      <th>WikipediaLink</th>\n",
       "      <th>WikipediaTitle</th>\n",
       "      <th>_id</th>\n",
       "    </tr>\n",
       "  </thead>\n",
       "  <tbody>\n",
       "    <tr>\n",
       "      <th>0</th>\n",
       "      <td>weak</td>\n",
       "      <td>Володимир Мономах</td>\n",
       "      <td>Володимиром Мономахом</td>\n",
       "      <td>батько</td>\n",
       "      <td>P22</td>\n",
       "      <td>Мстислав Великий</td>\n",
       "      <td>Мстиславом Великим</td>\n",
       "      <td>Ярополк жив у згоді з батьком Володимиром Моно...</td>\n",
       "      <td>https://uk.wikipedia.org/wiki/Ярополк Володими...</td>\n",
       "      <td>Ярополк Володимирович</td>\n",
       "      <td>0009f2f32483bbd4b68d</td>\n",
       "    </tr>\n",
       "    <tr>\n",
       "      <th>1</th>\n",
       "      <td>has</td>\n",
       "      <td>Флавій Орест</td>\n",
       "      <td>Флавій Орест</td>\n",
       "      <td>батько</td>\n",
       "      <td>P22</td>\n",
       "      <td>Ромул Август</td>\n",
       "      <td>Ромула Августа</td>\n",
       "      <td>Після смерті Ріцімера Східна Римська імперія с...</td>\n",
       "      <td>https://uk.wikipedia.org/wiki/V століття</td>\n",
       "      <td>V століття</td>\n",
       "      <td>001002218cb90f7de4ba</td>\n",
       "    </tr>\n",
       "    <tr>\n",
       "      <th>2</th>\n",
       "      <td>donthas</td>\n",
       "      <td>Уайна Капак</td>\n",
       "      <td>Уайни Капака</td>\n",
       "      <td>батько</td>\n",
       "      <td>P22</td>\n",
       "      <td>Уаскар</td>\n",
       "      <td>Уаскар</td>\n",
       "      <td>Був сином Сапа Інки Уайни Капака та молодшої д...</td>\n",
       "      <td>https://uk.wikipedia.org/wiki/Паулью Інка</td>\n",
       "      <td>Паулью Інка</td>\n",
       "      <td>001548301c08dc4d717f</td>\n",
       "    </tr>\n",
       "    <tr>\n",
       "      <th>3</th>\n",
       "      <td>has</td>\n",
       "      <td>Ярослав Мудрий</td>\n",
       "      <td>Ярослава I Мудрого</td>\n",
       "      <td>батько</td>\n",
       "      <td>P22</td>\n",
       "      <td>Володимир Ярославич (князь новгородський)</td>\n",
       "      <td>Володимир Ярославич</td>\n",
       "      <td>Володимир Ярославич — князь Новгородський, син...</td>\n",
       "      <td>https://uk.wikipedia.org/wiki/Володимир</td>\n",
       "      <td>Володимир</td>\n",
       "      <td>001809d2230282f77a33</td>\n",
       "    </tr>\n",
       "    <tr>\n",
       "      <th>4</th>\n",
       "      <td>donthas</td>\n",
       "      <td>Мехмед II Фатіх</td>\n",
       "      <td>Мехмеді ІІ</td>\n",
       "      <td>батько</td>\n",
       "      <td>P22</td>\n",
       "      <td>Баязид II</td>\n",
       "      <td>Баязиді ІІ</td>\n",
       "      <td>Відповідно до напису біля входу до приміщення ...</td>\n",
       "      <td>https://uk.wikipedia.org/wiki/Аладжа Імарет (С...</td>\n",
       "      <td>Аладжа Імарет (Салоніки)</td>\n",
       "      <td>001915ebadd92442641d</td>\n",
       "    </tr>\n",
       "  </tbody>\n",
       "</table>\n",
       "</div>"
      ],
      "text/plain": [
       "    Answer             Object           ObjectAnchor Predicate PredicateId  \\\n",
       "0     weak  Володимир Мономах  Володимиром Мономахом    батько         P22   \n",
       "1      has       Флавій Орест           Флавій Орест    батько         P22   \n",
       "2  donthas        Уайна Капак           Уайни Капака    батько         P22   \n",
       "3      has     Ярослав Мудрий     Ярослава I Мудрого    батько         P22   \n",
       "4  donthas    Мехмед II Фатіх             Мехмеді ІІ    батько         P22   \n",
       "\n",
       "                                     Subject        SubjectAnchor  \\\n",
       "0                           Мстислав Великий   Мстиславом Великим   \n",
       "1                               Ромул Август       Ромула Августа   \n",
       "2                                     Уаскар               Уаскар   \n",
       "3  Володимир Ярославич (князь новгородський)  Володимир Ярославич   \n",
       "4                                  Баязид II           Баязиді ІІ   \n",
       "\n",
       "                                                Text  \\\n",
       "0  Ярополк жив у згоді з батьком Володимиром Моно...   \n",
       "1  Після смерті Ріцімера Східна Римська імперія с...   \n",
       "2  Був сином Сапа Інки Уайни Капака та молодшої д...   \n",
       "3  Володимир Ярославич — князь Новгородський, син...   \n",
       "4  Відповідно до напису біля входу до приміщення ...   \n",
       "\n",
       "                                       WikipediaLink  \\\n",
       "0  https://uk.wikipedia.org/wiki/Ярополк Володими...   \n",
       "1           https://uk.wikipedia.org/wiki/V століття   \n",
       "2          https://uk.wikipedia.org/wiki/Паулью Інка   \n",
       "3            https://uk.wikipedia.org/wiki/Володимир   \n",
       "4  https://uk.wikipedia.org/wiki/Аладжа Імарет (С...   \n",
       "\n",
       "             WikipediaTitle                   _id  \n",
       "0     Ярополк Володимирович  0009f2f32483bbd4b68d  \n",
       "1                V століття  001002218cb90f7de4ba  \n",
       "2               Паулью Інка  001548301c08dc4d717f  \n",
       "3                 Володимир  001809d2230282f77a33  \n",
       "4  Аладжа Імарет (Салоніки)  001915ebadd92442641d  "
      ]
     },
     "execution_count": 1,
     "metadata": {},
     "output_type": "execute_result"
    }
   ],
   "source": [
    "import pandas as pd\n",
    "r = pd.read_csv('result.csv')\n",
    "r.head()"
   ]
  },
  {
   "cell_type": "code",
   "execution_count": 2,
   "metadata": {
    "collapsed": false
   },
   "outputs": [
    {
     "data": {
      "text/plain": [
       "5052"
      ]
     },
     "execution_count": 2,
     "metadata": {},
     "output_type": "execute_result"
    }
   ],
   "source": [
    "r = r[r['Answer']!='not']\n",
    "len(r)"
   ]
  },
  {
   "cell_type": "code",
   "execution_count": 3,
   "metadata": {
    "collapsed": false
   },
   "outputs": [],
   "source": [
    "r['Text'] = r.apply(lambda row: unicode(row['Text'], 'utf-8'), axis=1)\n",
    "r['SubjectAnchor'] = r.apply(lambda row: unicode(row['SubjectAnchor'], 'utf-8'), axis=1)\n",
    "r['ObjectAnchor'] = r.apply(lambda row: unicode(row['ObjectAnchor'], 'utf-8'), axis=1)"
   ]
  },
  {
   "cell_type": "code",
   "execution_count": 4,
   "metadata": {
    "collapsed": false
   },
   "outputs": [
    {
     "name": "stdout",
     "output_type": "stream",
     "text": [
      "Після смерті Ріцімера Східна Римська імперія спробувала прислати на захід свого імператора Юлія Непота, однак грецький імператор не отримав підтримки від римлян, і владу узурпував Флавій Орест, оголосивши імператором свого сина Ромула Августа.\n"
     ]
    }
   ],
   "source": [
    "from tokenize_uk import *\n",
    "\n",
    "row = r.iloc[1]\n",
    "text = row['Text'].replace(\"I\", \"I\")\n",
    "print text"
   ]
  },
  {
   "cell_type": "code",
   "execution_count": 5,
   "metadata": {
    "collapsed": false
   },
   "outputs": [
    {
     "name": "stdout",
     "output_type": "stream",
     "text": [
      "[u'\\u041f\\u0456\\u0441\\u043b\\u044f', u'\\u0441\\u043c\\u0435\\u0440\\u0442\\u0456', u'\\u0420\\u0456\\u0446\\u0456\\u043c\\u0435\\u0440\\u0430', u'\\u0421\\u0445\\u0456\\u0434\\u043d\\u0430', u'\\u0420\\u0438\\u043c\\u0441\\u044c\\u043a\\u0430', u'\\u0456\\u043c\\u043f\\u0435\\u0440\\u0456\\u044f', u'\\u0441\\u043f\\u0440\\u043e\\u0431\\u0443\\u0432\\u0430\\u043b\\u0430', u'\\u043f\\u0440\\u0438\\u0441\\u043b\\u0430\\u0442\\u0438', u'\\u043d\\u0430', u'\\u0437\\u0430\\u0445\\u0456\\u0434', u'\\u0441\\u0432\\u043e\\u0433\\u043e', u'\\u0456\\u043c\\u043f\\u0435\\u0440\\u0430\\u0442\\u043e\\u0440\\u0430', u'\\u042e\\u043b\\u0456\\u044f', u'\\u041d\\u0435\\u043f\\u043e\\u0442\\u0430', u',', u'\\u043e\\u0434\\u043d\\u0430\\u043a', u'\\u0433\\u0440\\u0435\\u0446\\u044c\\u043a\\u0438\\u0439', u'\\u0456\\u043c\\u043f\\u0435\\u0440\\u0430\\u0442\\u043e\\u0440', u'\\u043d\\u0435', u'\\u043e\\u0442\\u0440\\u0438\\u043c\\u0430\\u0432', u'\\u043f\\u0456\\u0434\\u0442\\u0440\\u0438\\u043c\\u043a\\u0438', u'\\u0432\\u0456\\u0434', u'\\u0440\\u0438\\u043c\\u043b\\u044f\\u043d', u',', u'\\u0456', u'\\u0432\\u043b\\u0430\\u0434\\u0443', u'\\u0443\\u0437\\u0443\\u0440\\u043f\\u0443\\u0432\\u0430\\u0432', u'\\u0424\\u043b\\u0430\\u0432\\u0456\\u0439', u'\\u041e\\u0440\\u0435\\u0441\\u0442', u',', u'\\u043e\\u0433\\u043e\\u043b\\u043e\\u0441\\u0438\\u0432\\u0448\\u0438', u'\\u0456\\u043c\\u043f\\u0435\\u0440\\u0430\\u0442\\u043e\\u0440\\u043e\\u043c', u'\\u0441\\u0432\\u043e\\u0433\\u043e', u'\\u0441\\u0438\\u043d\\u0430', u'\\u0420\\u043e\\u043c\\u0443\\u043b\\u0430', u'\\u0410\\u0432\\u0433\\u0443\\u0441\\u0442\\u0430', u'.']\n"
     ]
    }
   ],
   "source": [
    "tokens = tokenize_text(text)\n",
    "tokens = [t for tt in tokens for sentence in tt for t in sentence]\n",
    "print(tokens)"
   ]
  },
  {
   "cell_type": "code",
   "execution_count": 13,
   "metadata": {
    "collapsed": false
   },
   "outputs": [
    {
     "name": "stdout",
     "output_type": "stream",
     "text": [
      "[[28]]\n"
     ]
    }
   ],
   "source": [
    "import re\n",
    "objectAnchor = row['ObjectAnchor']\n",
    "def detect_anchor(tokens, anchor):\n",
    "    anchor_original = anchor\n",
    "    for i in range(len(tokens)):\n",
    "        token = tokens[i]\n",
    "#         print token \n",
    "#         print anchor \n",
    "#         print token in anchor\n",
    "#         print ''\n",
    "\n",
    "        \n",
    "        if(re.match('^'+token+'($|\\s)', anchor)):\n",
    "            start = i\n",
    "            anchor = anchor[len(token)+1:]\n",
    "        if(len(anchor) == 0):\n",
    "            end = i + 1\n",
    "            yield range(start, end)\n",
    "            anchor = anchor_original\n",
    "    \n",
    "detection = list(detect_anchor(tokens, objectAnchor))\n",
    "print detection"
   ]
  },
  {
   "cell_type": "code",
   "execution_count": null,
   "metadata": {
    "collapsed": true
   },
   "outputs": [],
   "source": []
  }
 ],
 "metadata": {
  "kernelspec": {
   "display_name": "Python 2",
   "language": "python",
   "name": "python2"
  },
  "language_info": {
   "codemirror_mode": {
    "name": "ipython",
    "version": 2
   },
   "file_extension": ".py",
   "mimetype": "text/x-python",
   "name": "python",
   "nbconvert_exporter": "python",
   "pygments_lexer": "ipython2",
   "version": "2.7.12"
  }
 },
 "nbformat": 4,
 "nbformat_minor": 1
}
