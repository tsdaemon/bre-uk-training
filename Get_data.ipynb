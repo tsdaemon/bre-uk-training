{
 "cells": [
  {
   "cell_type": "code",
   "execution_count": 1,
   "metadata": {
    "collapsed": true
   },
   "outputs": [],
   "source": [
    "from pymongo import MongoClient\n",
    "import pandas as pd"
   ]
  },
  {
   "cell_type": "code",
   "execution_count": 2,
   "metadata": {
    "collapsed": true
   },
   "outputs": [],
   "source": [
    "client = MongoClient('localhost', 27017)\n",
    "db = client.vulyk"
   ]
  },
  {
   "cell_type": "code",
   "execution_count": 7,
   "metadata": {
    "collapsed": false
   },
   "outputs": [],
   "source": [
    "# Object,ObjectAnchor,Predicate,PredicateId,Subject,SubjectAnchor,Text,WikipediaLink,WikipediaTitle,_id,Answer\n",
    "def map_result(task):\n",
    "    result = {\n",
    "        \"Object\": task[\"task_data\"][\"Object\"],\n",
    "        \"ObjectAnchor\": task[\"task_data\"][\"ObjectAnchor\"],\n",
    "        \"Predicate\": task[\"task_data\"][\"Predicate\"],\n",
    "        \"PredicateId\": task[\"task_data\"][\"PredicateId\"],\n",
    "        \"Subject\": task[\"task_data\"][\"Subject\"],\n",
    "        \"SubjectAnchor\": task[\"task_data\"][\"SubjectAnchor\"],\n",
    "        \"Text\": task[\"task_data\"][\"Text\"],\n",
    "        \"WikipediaLink\": task[\"task_data\"][\"WikipediaLink\"],\n",
    "        \"WikipediaTitle\": task[\"task_data\"][\"WikipediaTitle\"],\n",
    "        \"_id\": task[\"_id\"],\n",
    "        \"Answer\": db.reports.find_one({\"task\":task[\"_id\"]})[\"result\"][\"result\"]\n",
    "    }\n",
    "    return result\n",
    "result = list(map(map_result, db.tasks.find({\"closed\":True})))"
   ]
  },
  {
   "cell_type": "code",
   "execution_count": 8,
   "metadata": {
    "collapsed": false
   },
   "outputs": [
    {
     "data": {
      "text/plain": [
       "5298"
      ]
     },
     "execution_count": 8,
     "metadata": {},
     "output_type": "execute_result"
    }
   ],
   "source": [
    "len(result)"
   ]
  },
  {
   "cell_type": "code",
   "execution_count": 9,
   "metadata": {
    "collapsed": false
   },
   "outputs": [
    {
     "data": {
      "text/html": [
       "<div>\n",
       "<table border=\"1\" class=\"dataframe\">\n",
       "  <thead>\n",
       "    <tr style=\"text-align: right;\">\n",
       "      <th></th>\n",
       "      <th>Answer</th>\n",
       "      <th>Object</th>\n",
       "      <th>ObjectAnchor</th>\n",
       "      <th>Predicate</th>\n",
       "      <th>PredicateId</th>\n",
       "      <th>Subject</th>\n",
       "      <th>SubjectAnchor</th>\n",
       "      <th>Text</th>\n",
       "      <th>WikipediaLink</th>\n",
       "      <th>WikipediaTitle</th>\n",
       "      <th>_id</th>\n",
       "    </tr>\n",
       "  </thead>\n",
       "  <tbody>\n",
       "    <tr>\n",
       "      <th>0</th>\n",
       "      <td>weak</td>\n",
       "      <td>Володимир Мономах</td>\n",
       "      <td>Володимиром Мономахом</td>\n",
       "      <td>батько</td>\n",
       "      <td>P22</td>\n",
       "      <td>Мстислав Великий</td>\n",
       "      <td>Мстиславом Великим</td>\n",
       "      <td>Ярополк жив у згоді з батьком Володимиром Моно...</td>\n",
       "      <td>https://uk.wikipedia.org/wiki/Ярополк Володими...</td>\n",
       "      <td>Ярополк Володимирович</td>\n",
       "      <td>0009f2f32483bbd4b68d</td>\n",
       "    </tr>\n",
       "    <tr>\n",
       "      <th>1</th>\n",
       "      <td>has</td>\n",
       "      <td>Флавій Орест</td>\n",
       "      <td>Флавій Орест</td>\n",
       "      <td>батько</td>\n",
       "      <td>P22</td>\n",
       "      <td>Ромул Август</td>\n",
       "      <td>Ромула Августа</td>\n",
       "      <td>Після смерті Ріцімера Східна Римська імперія с...</td>\n",
       "      <td>https://uk.wikipedia.org/wiki/V століття</td>\n",
       "      <td>V століття</td>\n",
       "      <td>001002218cb90f7de4ba</td>\n",
       "    </tr>\n",
       "    <tr>\n",
       "      <th>2</th>\n",
       "      <td>donthas</td>\n",
       "      <td>Уайна Капак</td>\n",
       "      <td>Уайни Капака</td>\n",
       "      <td>батько</td>\n",
       "      <td>P22</td>\n",
       "      <td>Уаскар</td>\n",
       "      <td>Уаскар</td>\n",
       "      <td>Був сином Сапа Інки Уайни Капака та молодшої д...</td>\n",
       "      <td>https://uk.wikipedia.org/wiki/Паулью Інка</td>\n",
       "      <td>Паулью Інка</td>\n",
       "      <td>001548301c08dc4d717f</td>\n",
       "    </tr>\n",
       "    <tr>\n",
       "      <th>3</th>\n",
       "      <td>has</td>\n",
       "      <td>Ярослав Мудрий</td>\n",
       "      <td>Ярослава I Мудрого</td>\n",
       "      <td>батько</td>\n",
       "      <td>P22</td>\n",
       "      <td>Володимир Ярославич (князь новгородський)</td>\n",
       "      <td>Володимир Ярославич</td>\n",
       "      <td>Володимир Ярославич — князь Новгородський, син...</td>\n",
       "      <td>https://uk.wikipedia.org/wiki/Володимир</td>\n",
       "      <td>Володимир</td>\n",
       "      <td>001809d2230282f77a33</td>\n",
       "    </tr>\n",
       "    <tr>\n",
       "      <th>4</th>\n",
       "      <td>donthas</td>\n",
       "      <td>Мехмед II Фатіх</td>\n",
       "      <td>Мехмеді ІІ</td>\n",
       "      <td>батько</td>\n",
       "      <td>P22</td>\n",
       "      <td>Баязид II</td>\n",
       "      <td>Баязиді ІІ</td>\n",
       "      <td>Відповідно до напису біля входу до приміщення ...</td>\n",
       "      <td>https://uk.wikipedia.org/wiki/Аладжа Імарет (С...</td>\n",
       "      <td>Аладжа Імарет (Салоніки)</td>\n",
       "      <td>001915ebadd92442641d</td>\n",
       "    </tr>\n",
       "  </tbody>\n",
       "</table>\n",
       "</div>"
      ],
      "text/plain": [
       "    Answer             Object           ObjectAnchor Predicate PredicateId  \\\n",
       "0     weak  Володимир Мономах  Володимиром Мономахом    батько         P22   \n",
       "1      has       Флавій Орест           Флавій Орест    батько         P22   \n",
       "2  donthas        Уайна Капак           Уайни Капака    батько         P22   \n",
       "3      has     Ярослав Мудрий     Ярослава I Мудрого    батько         P22   \n",
       "4  donthas    Мехмед II Фатіх             Мехмеді ІІ    батько         P22   \n",
       "\n",
       "                                     Subject        SubjectAnchor  \\\n",
       "0                           Мстислав Великий   Мстиславом Великим   \n",
       "1                               Ромул Август       Ромула Августа   \n",
       "2                                     Уаскар               Уаскар   \n",
       "3  Володимир Ярославич (князь новгородський)  Володимир Ярославич   \n",
       "4                                  Баязид II           Баязиді ІІ   \n",
       "\n",
       "                                                Text  \\\n",
       "0  Ярополк жив у згоді з батьком Володимиром Моно...   \n",
       "1  Після смерті Ріцімера Східна Римська імперія с...   \n",
       "2  Був сином Сапа Інки Уайни Капака та молодшої д...   \n",
       "3  Володимир Ярославич — князь Новгородський, син...   \n",
       "4  Відповідно до напису біля входу до приміщення ...   \n",
       "\n",
       "                                       WikipediaLink  \\\n",
       "0  https://uk.wikipedia.org/wiki/Ярополк Володими...   \n",
       "1           https://uk.wikipedia.org/wiki/V століття   \n",
       "2          https://uk.wikipedia.org/wiki/Паулью Інка   \n",
       "3            https://uk.wikipedia.org/wiki/Володимир   \n",
       "4  https://uk.wikipedia.org/wiki/Аладжа Імарет (С...   \n",
       "\n",
       "             WikipediaTitle                   _id  \n",
       "0     Ярополк Володимирович  0009f2f32483bbd4b68d  \n",
       "1                V століття  001002218cb90f7de4ba  \n",
       "2               Паулью Інка  001548301c08dc4d717f  \n",
       "3                 Володимир  001809d2230282f77a33  \n",
       "4  Аладжа Імарет (Салоніки)  001915ebadd92442641d  "
      ]
     },
     "execution_count": 9,
     "metadata": {},
     "output_type": "execute_result"
    }
   ],
   "source": [
    "r = pd.DataFrame(result)\n",
    "r.head()"
   ]
  },
  {
   "cell_type": "code",
   "execution_count": 10,
   "metadata": {
    "collapsed": false
   },
   "outputs": [],
   "source": [
    "r.to_csv('result.csv', index=False)"
   ]
  }
 ],
 "metadata": {
  "kernelspec": {
   "display_name": "Python [py35]",
   "language": "python",
   "name": "Python [py35]"
  },
  "language_info": {
   "codemirror_mode": {
    "name": "ipython",
    "version": 3
   },
   "file_extension": ".py",
   "mimetype": "text/x-python",
   "name": "python",
   "nbconvert_exporter": "python",
   "pygments_lexer": "ipython3",
   "version": "3.5.2"
  }
 },
 "nbformat": 4,
 "nbformat_minor": 0
}
